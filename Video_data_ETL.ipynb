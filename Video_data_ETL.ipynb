{
 "cells": [
  {
   "cell_type": "code",
   "execution_count": 16,
   "metadata": {},
   "outputs": [],
   "source": [
    "import pandas as pd\n",
    "import datetime"
   ]
  },
  {
   "cell_type": "code",
   "execution_count": 17,
   "metadata": {},
   "outputs": [
    {
     "name": "stdout",
     "output_type": "stream",
     "text": [
      "DimDate.csv     DimSite.csv     Fact_table.csv  video_data.csv\r\n",
      "DimPlatform.csv DimVideo.csv    Untitled.ipynb  video_data.py\r\n"
     ]
    }
   ],
   "source": [
    "! ls"
   ]
  },
  {
   "cell_type": "markdown",
   "metadata": {},
   "source": [
    "### function to modify platform_name"
   ]
  },
  {
   "cell_type": "code",
   "execution_count": 18,
   "metadata": {},
   "outputs": [],
   "source": [
    "def platform_name (name):\n",
    "    if 'IPHONE' in name.upper():\n",
    "        return 'iPhone'\n",
    "    elif 'ANDROID' in name.upper():\n",
    "        return 'Android Phone'\n",
    "    elif 'IPAD' in name.upper():\n",
    "        return 'iPad'\n",
    "    elif 'WEB' in name.upper():\n",
    "        return 'Web'\n",
    "    elif 'NEW' in name.upper():\n",
    "        return 'Desktop'\n",
    "    else: return 'Unknown'"
   ]
  },
  {
   "cell_type": "code",
   "execution_count": 19,
   "metadata": {},
   "outputs": [
    {
     "data": {
      "text/plain": [
       "'Web'"
      ]
     },
     "execution_count": 19,
     "metadata": {},
     "output_type": "execute_result"
    }
   ],
   "source": [
    "#Test output\n",
    "platform_name('App Web')"
   ]
  },
  {
   "cell_type": "markdown",
   "metadata": {},
   "source": [
    "### Import Raw Data"
   ]
  },
  {
   "cell_type": "code",
   "execution_count": 20,
   "metadata": {},
   "outputs": [
    {
     "name": "stderr",
     "output_type": "stream",
     "text": [
      "Skipping line 464716: expected 3 fields, saw 4\n",
      "Skipping line 464947: expected 3 fields, saw 4\n",
      "Skipping line 465187: expected 3 fields, saw 4\n",
      "Skipping line 465442: expected 3 fields, saw 4\n",
      "Skipping line 465648: expected 3 fields, saw 4\n",
      "\n"
     ]
    }
   ],
   "source": [
    "df_raw_data = pd.read_csv(\"video_data.csv\", quotechar='\"', error_bad_lines = False)"
   ]
  },
  {
   "cell_type": "code",
   "execution_count": 21,
   "metadata": {},
   "outputs": [
    {
     "data": {
      "text/html": [
       "<div>\n",
       "<style scoped>\n",
       "    .dataframe tbody tr th:only-of-type {\n",
       "        vertical-align: middle;\n",
       "    }\n",
       "\n",
       "    .dataframe tbody tr th {\n",
       "        vertical-align: top;\n",
       "    }\n",
       "\n",
       "    .dataframe thead th {\n",
       "        text-align: right;\n",
       "    }\n",
       "</style>\n",
       "<table border=\"1\" class=\"dataframe\">\n",
       "  <thead>\n",
       "    <tr style=\"text-align: right;\">\n",
       "      <th></th>\n",
       "      <th>DateTime</th>\n",
       "      <th>VideoTitle</th>\n",
       "      <th>events</th>\n",
       "    </tr>\n",
       "  </thead>\n",
       "  <tbody>\n",
       "    <tr>\n",
       "      <th>0</th>\n",
       "      <td>2017-01-11T00:00:31.000Z</td>\n",
       "      <td>App Web|Clips|a-current-affair;2016|William Ty...</td>\n",
       "      <td>157,120,160,104,162,161,163,164,165,166,171,229</td>\n",
       "    </tr>\n",
       "    <tr>\n",
       "      <th>1</th>\n",
       "      <td>2017-01-11T00:00:53.000Z</td>\n",
       "      <td>news| Shark attacks spearfisherman</td>\n",
       "      <td>127,157,120,160,104,162,161,171,206</td>\n",
       "    </tr>\n",
       "    <tr>\n",
       "      <th>2</th>\n",
       "      <td>2017-01-11T00:00:21.000Z</td>\n",
       "      <td>news| Shark attacks spearfisherman</td>\n",
       "      <td>127,157,120,160,104,162,161,163,164,165,166,17...</td>\n",
       "    </tr>\n",
       "    <tr>\n",
       "      <th>3</th>\n",
       "      <td>2017-01-11T00:01:27.000Z</td>\n",
       "      <td>news| Chilean navy films UFO</td>\n",
       "      <td>157,120,160,104,162,161,170,171,237</td>\n",
       "    </tr>\n",
       "    <tr>\n",
       "      <th>4</th>\n",
       "      <td>2017-01-11T00:00:33.000Z</td>\n",
       "      <td>news| Video shows alleged axe attack at Sydney...</td>\n",
       "      <td>157,120,160,104,162,161,163,164,165,166,171,229</td>\n",
       "    </tr>\n",
       "  </tbody>\n",
       "</table>\n",
       "</div>"
      ],
      "text/plain": [
       "                   DateTime  \\\n",
       "0  2017-01-11T00:00:31.000Z   \n",
       "1  2017-01-11T00:00:53.000Z   \n",
       "2  2017-01-11T00:00:21.000Z   \n",
       "3  2017-01-11T00:01:27.000Z   \n",
       "4  2017-01-11T00:00:33.000Z   \n",
       "\n",
       "                                          VideoTitle  \\\n",
       "0  App Web|Clips|a-current-affair;2016|William Ty...   \n",
       "1                 news| Shark attacks spearfisherman   \n",
       "2                 news| Shark attacks spearfisherman   \n",
       "3                       news| Chilean navy films UFO   \n",
       "4  news| Video shows alleged axe attack at Sydney...   \n",
       "\n",
       "                                              events  \n",
       "0    157,120,160,104,162,161,163,164,165,166,171,229  \n",
       "1                127,157,120,160,104,162,161,171,206  \n",
       "2  127,157,120,160,104,162,161,163,164,165,166,17...  \n",
       "3                157,120,160,104,162,161,170,171,237  \n",
       "4    157,120,160,104,162,161,163,164,165,166,171,229  "
      ]
     },
     "execution_count": 21,
     "metadata": {},
     "output_type": "execute_result"
    }
   ],
   "source": [
    "df_raw_data.head()\n"
   ]
  },
  {
   "cell_type": "code",
   "execution_count": 22,
   "metadata": {},
   "outputs": [
    {
     "name": "stdout",
     "output_type": "stream",
     "text": [
      "<class 'pandas.core.frame.DataFrame'>\n",
      "RangeIndex: 1333653 entries, 0 to 1333652\n",
      "Data columns (total 3 columns):\n",
      "DateTime      1333653 non-null object\n",
      "VideoTitle    1333653 non-null object\n",
      "events        1333653 non-null object\n",
      "dtypes: object(3)\n",
      "memory usage: 30.5+ MB\n"
     ]
    }
   ],
   "source": [
    "df_raw_data.info()"
   ]
  },
  {
   "cell_type": "markdown",
   "metadata": {},
   "source": [
    "### Clean the data"
   ]
  },
  {
   "cell_type": "markdown",
   "metadata": {},
   "source": [
    "#### remove the rows in events which don't have 206"
   ]
  },
  {
   "cell_type": "code",
   "execution_count": 23,
   "metadata": {},
   "outputs": [],
   "source": [
    "df_raw_data = df_raw_data.\\\n",
    "              loc[lambda df: df.events.\\\n",
    "                  apply(lambda l: '206' in l)]"
   ]
  },
  {
   "cell_type": "code",
   "execution_count": 24,
   "metadata": {},
   "outputs": [],
   "source": [
    "df_raw_data['DateTime'] = df_raw_data['DateTime'].\\\n",
    "                          apply(lambda t: datetime.\\\n",
    "                                        datetime.\\\n",
    "                                        strptime(t[:-5], \\\n",
    "                                        '%Y-%m-%dT%H:%M:%S'))\n",
    "\n",
    "df_raw_data['DateTime'] = df_raw_data['DateTime'].\\\n",
    "                          apply(lambda dt: dt.strftime(\"%d/%m/%Y %H:%M\"))\n",
    "\n",
    "df_raw_data['events'] = df_raw_data['events'].str.split(\",\")\n",
    "\n",
    "df_raw_data['Platform'] = df_raw_data['VideoTitle'].\\\n",
    "                          str.split(\"|\").str[0].\\\n",
    "                          apply(lambda pn: platform_name(pn))\n",
    "\n",
    "df_raw_data['Site'] = df_raw_data['VideoTitle'].\\\n",
    "                        str.split(\"|\").str[0].\\\n",
    "                        apply(lambda si: 'News' if si.upper() == 'NEWS' else 'Unknown')\n",
    "\n",
    "df_raw_data['Platform'].unique()\n",
    "\n",
    "df_raw_data['Site'].unique()\n",
    "\n",
    "df_raw_data['Video'] = df_raw_data['VideoTitle'].\\\n",
    "                       str.split(\"|\").str[-1].str.upper()"
   ]
  },
  {
   "cell_type": "code",
   "execution_count": 25,
   "metadata": {},
   "outputs": [
    {
     "data": {
      "text/html": [
       "<div>\n",
       "<style scoped>\n",
       "    .dataframe tbody tr th:only-of-type {\n",
       "        vertical-align: middle;\n",
       "    }\n",
       "\n",
       "    .dataframe tbody tr th {\n",
       "        vertical-align: top;\n",
       "    }\n",
       "\n",
       "    .dataframe thead th {\n",
       "        text-align: right;\n",
       "    }\n",
       "</style>\n",
       "<table border=\"1\" class=\"dataframe\">\n",
       "  <thead>\n",
       "    <tr style=\"text-align: right;\">\n",
       "      <th></th>\n",
       "      <th>DateTime</th>\n",
       "      <th>VideoTitle</th>\n",
       "      <th>events</th>\n",
       "      <th>Platform</th>\n",
       "      <th>Site</th>\n",
       "      <th>Video</th>\n",
       "    </tr>\n",
       "  </thead>\n",
       "  <tbody>\n",
       "    <tr>\n",
       "      <th>1</th>\n",
       "      <td>11/01/2017 00:00</td>\n",
       "      <td>news| Shark attacks spearfisherman</td>\n",
       "      <td>[127, 157, 120, 160, 104, 162, 161, 171, 206]</td>\n",
       "      <td>Desktop</td>\n",
       "      <td>News</td>\n",
       "      <td>SHARK ATTACKS SPEARFISHERMAN</td>\n",
       "    </tr>\n",
       "    <tr>\n",
       "      <th>9</th>\n",
       "      <td>11/01/2017 00:03</td>\n",
       "      <td>news| Chilean navy films UFO</td>\n",
       "      <td>[127, 157, 120, 160, 104, 162, 161, 171, 206]</td>\n",
       "      <td>Desktop</td>\n",
       "      <td>News</td>\n",
       "      <td>CHILEAN NAVY FILMS UFO</td>\n",
       "    </tr>\n",
       "    <tr>\n",
       "      <th>10</th>\n",
       "      <td>11/01/2017 00:02</td>\n",
       "      <td>news| Chilean navy films UFO</td>\n",
       "      <td>[157, 120, 160, 104, 162, 161, 171, 206]</td>\n",
       "      <td>Desktop</td>\n",
       "      <td>News</td>\n",
       "      <td>CHILEAN NAVY FILMS UFO</td>\n",
       "    </tr>\n",
       "    <tr>\n",
       "      <th>15</th>\n",
       "      <td>11/01/2017 00:04</td>\n",
       "      <td>news|Exclusive CCTV footage of Minto attack re...</td>\n",
       "      <td>[157, 120, 160, 104, 162, 161, 171, 206]</td>\n",
       "      <td>Desktop</td>\n",
       "      <td>News</td>\n",
       "      <td>EXCLUSIVE CCTV FOOTAGE OF MINTO ATTACK RELEASED</td>\n",
       "    </tr>\n",
       "    <tr>\n",
       "      <th>16</th>\n",
       "      <td>11/01/2017 00:03</td>\n",
       "      <td>news|Blue shark washes up on St Kilda beach</td>\n",
       "      <td>[127, 157, 120, 160, 104, 162, 161, 171, 206]</td>\n",
       "      <td>Desktop</td>\n",
       "      <td>News</td>\n",
       "      <td>BLUE SHARK WASHES UP ON ST KILDA BEACH</td>\n",
       "    </tr>\n",
       "  </tbody>\n",
       "</table>\n",
       "</div>"
      ],
      "text/plain": [
       "            DateTime                                         VideoTitle  \\\n",
       "1   11/01/2017 00:00                 news| Shark attacks spearfisherman   \n",
       "9   11/01/2017 00:03                       news| Chilean navy films UFO   \n",
       "10  11/01/2017 00:02                       news| Chilean navy films UFO   \n",
       "15  11/01/2017 00:04  news|Exclusive CCTV footage of Minto attack re...   \n",
       "16  11/01/2017 00:03        news|Blue shark washes up on St Kilda beach   \n",
       "\n",
       "                                           events Platform  Site  \\\n",
       "1   [127, 157, 120, 160, 104, 162, 161, 171, 206]  Desktop  News   \n",
       "9   [127, 157, 120, 160, 104, 162, 161, 171, 206]  Desktop  News   \n",
       "10       [157, 120, 160, 104, 162, 161, 171, 206]  Desktop  News   \n",
       "15       [157, 120, 160, 104, 162, 161, 171, 206]  Desktop  News   \n",
       "16  [127, 157, 120, 160, 104, 162, 161, 171, 206]  Desktop  News   \n",
       "\n",
       "                                              Video  \n",
       "1                      SHARK ATTACKS SPEARFISHERMAN  \n",
       "9                            CHILEAN NAVY FILMS UFO  \n",
       "10                           CHILEAN NAVY FILMS UFO  \n",
       "15  EXCLUSIVE CCTV FOOTAGE OF MINTO ATTACK RELEASED  \n",
       "16           BLUE SHARK WASHES UP ON ST KILDA BEACH  "
      ]
     },
     "execution_count": 25,
     "metadata": {},
     "output_type": "execute_result"
    }
   ],
   "source": [
    "df_raw_data.head()"
   ]
  },
  {
   "cell_type": "code",
   "execution_count": 26,
   "metadata": {},
   "outputs": [
    {
     "name": "stdout",
     "output_type": "stream",
     "text": [
      "<class 'pandas.core.frame.DataFrame'>\n",
      "Int64Index: 498109 entries, 1 to 1333642\n",
      "Data columns (total 6 columns):\n",
      "DateTime      498109 non-null object\n",
      "VideoTitle    498109 non-null object\n",
      "events        498109 non-null object\n",
      "Platform      498109 non-null object\n",
      "Site          498109 non-null object\n",
      "Video         498109 non-null object\n",
      "dtypes: object(6)\n",
      "memory usage: 26.6+ MB\n"
     ]
    }
   ],
   "source": [
    "df_raw_data.info()"
   ]
  },
  {
   "cell_type": "markdown",
   "metadata": {},
   "source": [
    "## DimDate"
   ]
  },
  {
   "cell_type": "code",
   "execution_count": 27,
   "metadata": {},
   "outputs": [
    {
     "data": {
      "text/html": [
       "<div>\n",
       "<style scoped>\n",
       "    .dataframe tbody tr th:only-of-type {\n",
       "        vertical-align: middle;\n",
       "    }\n",
       "\n",
       "    .dataframe tbody tr th {\n",
       "        vertical-align: top;\n",
       "    }\n",
       "\n",
       "    .dataframe thead th {\n",
       "        text-align: right;\n",
       "    }\n",
       "</style>\n",
       "<table border=\"1\" class=\"dataframe\">\n",
       "  <thead>\n",
       "    <tr style=\"text-align: right;\">\n",
       "      <th></th>\n",
       "      <th>DateTime</th>\n",
       "    </tr>\n",
       "  </thead>\n",
       "  <tbody>\n",
       "    <tr>\n",
       "      <th>1</th>\n",
       "      <td>11/01/2017 00:00</td>\n",
       "    </tr>\n",
       "    <tr>\n",
       "      <th>9</th>\n",
       "      <td>11/01/2017 00:03</td>\n",
       "    </tr>\n",
       "    <tr>\n",
       "      <th>10</th>\n",
       "      <td>11/01/2017 00:02</td>\n",
       "    </tr>\n",
       "    <tr>\n",
       "      <th>15</th>\n",
       "      <td>11/01/2017 00:04</td>\n",
       "    </tr>\n",
       "    <tr>\n",
       "      <th>16</th>\n",
       "      <td>11/01/2017 00:03</td>\n",
       "    </tr>\n",
       "  </tbody>\n",
       "</table>\n",
       "</div>"
      ],
      "text/plain": [
       "            DateTime\n",
       "1   11/01/2017 00:00\n",
       "9   11/01/2017 00:03\n",
       "10  11/01/2017 00:02\n",
       "15  11/01/2017 00:04\n",
       "16  11/01/2017 00:03"
      ]
     },
     "execution_count": 27,
     "metadata": {},
     "output_type": "execute_result"
    }
   ],
   "source": [
    "dlt_DimDate = pd.DataFrame()\n",
    "dlt_DimDate['DateTime'] = df_raw_data['DateTime']\n",
    "dlt_DimDate.head()"
   ]
  },
  {
   "cell_type": "markdown",
   "metadata": {},
   "source": [
    "### Remove duplicate data"
   ]
  },
  {
   "cell_type": "code",
   "execution_count": 28,
   "metadata": {},
   "outputs": [],
   "source": [
    "df_DimDate = dlt_DimDate.drop_duplicates(['DateTime']).reset_index()\n",
    "df_DimDate = df_DimDate.drop(columns='index')\n",
    "\n",
    "#add surrogate key\n",
    "df_DimDate['s_key'] = df_DimDate.index"
   ]
  },
  {
   "cell_type": "code",
   "execution_count": 29,
   "metadata": {},
   "outputs": [
    {
     "name": "stdout",
     "output_type": "stream",
     "text": [
      "<class 'pandas.core.frame.DataFrame'>\n",
      "RangeIndex: 1440 entries, 0 to 1439\n",
      "Data columns (total 2 columns):\n",
      "DateTime    1440 non-null object\n",
      "s_key       1440 non-null int64\n",
      "dtypes: int64(1), object(1)\n",
      "memory usage: 22.6+ KB\n"
     ]
    }
   ],
   "source": [
    "df_DimDate.info()"
   ]
  },
  {
   "cell_type": "code",
   "execution_count": 30,
   "metadata": {},
   "outputs": [
    {
     "data": {
      "text/html": [
       "<div>\n",
       "<style scoped>\n",
       "    .dataframe tbody tr th:only-of-type {\n",
       "        vertical-align: middle;\n",
       "    }\n",
       "\n",
       "    .dataframe tbody tr th {\n",
       "        vertical-align: top;\n",
       "    }\n",
       "\n",
       "    .dataframe thead th {\n",
       "        text-align: right;\n",
       "    }\n",
       "</style>\n",
       "<table border=\"1\" class=\"dataframe\">\n",
       "  <thead>\n",
       "    <tr style=\"text-align: right;\">\n",
       "      <th></th>\n",
       "      <th>DateTime</th>\n",
       "      <th>s_key</th>\n",
       "    </tr>\n",
       "  </thead>\n",
       "  <tbody>\n",
       "    <tr>\n",
       "      <th>0</th>\n",
       "      <td>11/01/2017 00:00</td>\n",
       "      <td>0</td>\n",
       "    </tr>\n",
       "    <tr>\n",
       "      <th>1</th>\n",
       "      <td>11/01/2017 00:03</td>\n",
       "      <td>1</td>\n",
       "    </tr>\n",
       "    <tr>\n",
       "      <th>2</th>\n",
       "      <td>11/01/2017 00:02</td>\n",
       "      <td>2</td>\n",
       "    </tr>\n",
       "    <tr>\n",
       "      <th>3</th>\n",
       "      <td>11/01/2017 00:04</td>\n",
       "      <td>3</td>\n",
       "    </tr>\n",
       "    <tr>\n",
       "      <th>4</th>\n",
       "      <td>11/01/2017 00:05</td>\n",
       "      <td>4</td>\n",
       "    </tr>\n",
       "  </tbody>\n",
       "</table>\n",
       "</div>"
      ],
      "text/plain": [
       "           DateTime  s_key\n",
       "0  11/01/2017 00:00      0\n",
       "1  11/01/2017 00:03      1\n",
       "2  11/01/2017 00:02      2\n",
       "3  11/01/2017 00:04      3\n",
       "4  11/01/2017 00:05      4"
      ]
     },
     "execution_count": 30,
     "metadata": {},
     "output_type": "execute_result"
    }
   ],
   "source": [
    "df_DimDate.head()"
   ]
  },
  {
   "cell_type": "markdown",
   "metadata": {},
   "source": [
    "## Dim Platform"
   ]
  },
  {
   "cell_type": "code",
   "execution_count": 38,
   "metadata": {},
   "outputs": [],
   "source": [
    "df_DimPlatform = pd.DataFrame()\n",
    "df_DimPlatform['Platform'] = df_raw_data['Platform'].unique()\n",
    "df_DimPlatform['S_key'] = df_DimPlatform.index"
   ]
  },
  {
   "cell_type": "code",
   "execution_count": 37,
   "metadata": {},
   "outputs": [
    {
     "data": {
      "text/html": [
       "<div>\n",
       "<style scoped>\n",
       "    .dataframe tbody tr th:only-of-type {\n",
       "        vertical-align: middle;\n",
       "    }\n",
       "\n",
       "    .dataframe tbody tr th {\n",
       "        vertical-align: top;\n",
       "    }\n",
       "\n",
       "    .dataframe thead th {\n",
       "        text-align: right;\n",
       "    }\n",
       "</style>\n",
       "<table border=\"1\" class=\"dataframe\">\n",
       "  <thead>\n",
       "    <tr style=\"text-align: right;\">\n",
       "      <th></th>\n",
       "      <th>Platform</th>\n",
       "      <th>S_key</th>\n",
       "    </tr>\n",
       "  </thead>\n",
       "  <tbody>\n",
       "    <tr>\n",
       "      <th>0</th>\n",
       "      <td>Desktop</td>\n",
       "      <td>0</td>\n",
       "    </tr>\n",
       "    <tr>\n",
       "      <th>1</th>\n",
       "      <td>Web</td>\n",
       "      <td>1</td>\n",
       "    </tr>\n",
       "    <tr>\n",
       "      <th>2</th>\n",
       "      <td>Android Phone</td>\n",
       "      <td>2</td>\n",
       "    </tr>\n",
       "    <tr>\n",
       "      <th>3</th>\n",
       "      <td>iPhone</td>\n",
       "      <td>3</td>\n",
       "    </tr>\n",
       "    <tr>\n",
       "      <th>4</th>\n",
       "      <td>iPad</td>\n",
       "      <td>4</td>\n",
       "    </tr>\n",
       "  </tbody>\n",
       "</table>\n",
       "</div>"
      ],
      "text/plain": [
       "        Platform  S_key\n",
       "0        Desktop      0\n",
       "1            Web      1\n",
       "2  Android Phone      2\n",
       "3         iPhone      3\n",
       "4           iPad      4"
      ]
     },
     "execution_count": 37,
     "metadata": {},
     "output_type": "execute_result"
    }
   ],
   "source": [
    "df_DimPlatform"
   ]
  },
  {
   "cell_type": "markdown",
   "metadata": {},
   "source": [
    "## Dim Site"
   ]
  },
  {
   "cell_type": "code",
   "execution_count": 36,
   "metadata": {},
   "outputs": [],
   "source": [
    "df_DimSite = pd.DataFrame()\n",
    "df_DimSite['Site'] = df_raw_data['Site'].unique()\n",
    "df_DimSite['S_key'] = df_DimSite.index\n"
   ]
  },
  {
   "cell_type": "code",
   "execution_count": 35,
   "metadata": {},
   "outputs": [
    {
     "data": {
      "text/html": [
       "<div>\n",
       "<style scoped>\n",
       "    .dataframe tbody tr th:only-of-type {\n",
       "        vertical-align: middle;\n",
       "    }\n",
       "\n",
       "    .dataframe tbody tr th {\n",
       "        vertical-align: top;\n",
       "    }\n",
       "\n",
       "    .dataframe thead th {\n",
       "        text-align: right;\n",
       "    }\n",
       "</style>\n",
       "<table border=\"1\" class=\"dataframe\">\n",
       "  <thead>\n",
       "    <tr style=\"text-align: right;\">\n",
       "      <th></th>\n",
       "      <th>Site</th>\n",
       "      <th>S_key</th>\n",
       "    </tr>\n",
       "  </thead>\n",
       "  <tbody>\n",
       "    <tr>\n",
       "      <th>0</th>\n",
       "      <td>News</td>\n",
       "      <td>0</td>\n",
       "    </tr>\n",
       "    <tr>\n",
       "      <th>1</th>\n",
       "      <td>Unknown</td>\n",
       "      <td>1</td>\n",
       "    </tr>\n",
       "  </tbody>\n",
       "</table>\n",
       "</div>"
      ],
      "text/plain": [
       "      Site  S_key\n",
       "0     News      0\n",
       "1  Unknown      1"
      ]
     },
     "execution_count": 35,
     "metadata": {},
     "output_type": "execute_result"
    }
   ],
   "source": [
    "df_DimSite"
   ]
  },
  {
   "cell_type": "markdown",
   "metadata": {},
   "source": [
    "## Dim Video"
   ]
  },
  {
   "cell_type": "code",
   "execution_count": 39,
   "metadata": {},
   "outputs": [],
   "source": [
    "df_DimVideo = pd.DataFrame()\n",
    "df_DimVideo['Video'] = df_raw_data['Video'].unique()\n",
    "df_DimVideo['S_key'] = df_DimVideo.index\n"
   ]
  },
  {
   "cell_type": "code",
   "execution_count": 40,
   "metadata": {},
   "outputs": [
    {
     "data": {
      "text/html": [
       "<div>\n",
       "<style scoped>\n",
       "    .dataframe tbody tr th:only-of-type {\n",
       "        vertical-align: middle;\n",
       "    }\n",
       "\n",
       "    .dataframe tbody tr th {\n",
       "        vertical-align: top;\n",
       "    }\n",
       "\n",
       "    .dataframe thead th {\n",
       "        text-align: right;\n",
       "    }\n",
       "</style>\n",
       "<table border=\"1\" class=\"dataframe\">\n",
       "  <thead>\n",
       "    <tr style=\"text-align: right;\">\n",
       "      <th></th>\n",
       "      <th>Video</th>\n",
       "      <th>S_key</th>\n",
       "    </tr>\n",
       "  </thead>\n",
       "  <tbody>\n",
       "    <tr>\n",
       "      <th>0</th>\n",
       "      <td>SHARK ATTACKS SPEARFISHERMAN</td>\n",
       "      <td>0</td>\n",
       "    </tr>\n",
       "    <tr>\n",
       "      <th>1</th>\n",
       "      <td>CHILEAN NAVY FILMS UFO</td>\n",
       "      <td>1</td>\n",
       "    </tr>\n",
       "    <tr>\n",
       "      <th>2</th>\n",
       "      <td>EXCLUSIVE CCTV FOOTAGE OF MINTO ATTACK RELEASED</td>\n",
       "      <td>2</td>\n",
       "    </tr>\n",
       "    <tr>\n",
       "      <th>3</th>\n",
       "      <td>BLUE SHARK WASHES UP ON ST KILDA BEACH</td>\n",
       "      <td>3</td>\n",
       "    </tr>\n",
       "    <tr>\n",
       "      <th>4</th>\n",
       "      <td>CELEBRITY REACTION TO STREEP’S ANTI-TRUMP SPEECH</td>\n",
       "      <td>4</td>\n",
       "    </tr>\n",
       "  </tbody>\n",
       "</table>\n",
       "</div>"
      ],
      "text/plain": [
       "                                               Video  S_key\n",
       "0                       SHARK ATTACKS SPEARFISHERMAN      0\n",
       "1                             CHILEAN NAVY FILMS UFO      1\n",
       "2    EXCLUSIVE CCTV FOOTAGE OF MINTO ATTACK RELEASED      2\n",
       "3             BLUE SHARK WASHES UP ON ST KILDA BEACH      3\n",
       "4   CELEBRITY REACTION TO STREEP’S ANTI-TRUMP SPEECH      4"
      ]
     },
     "execution_count": 40,
     "metadata": {},
     "output_type": "execute_result"
    }
   ],
   "source": [
    "df_DimVideo.head()"
   ]
  },
  {
   "cell_type": "markdown",
   "metadata": {},
   "source": [
    "## Fact Table"
   ]
  },
  {
   "cell_type": "code",
   "execution_count": 41,
   "metadata": {},
   "outputs": [],
   "source": [
    "df_fact_table = pd.DataFrame()\n",
    "\n",
    "df_fact_table['DateTime_Skey'] = pd.merge(df_raw_data,df_DimDate, on = 'DateTime', how = 'left')['s_key']\n",
    "df_fact_table['Platform_Skey'] = pd.merge(df_raw_data,df_DimPlatform, on = 'Platform', how = 'left')['S_key']\n",
    "df_fact_table['Site_Skey'] = pd.merge(df_raw_data,df_DimSite, on = 'Site', how = 'left')['S_key']\n",
    "df_fact_table['Video_Skey'] = pd.merge(df_raw_data,df_DimVideo, on = 'Video', how = 'left')['S_key']\n"
   ]
  },
  {
   "cell_type": "code",
   "execution_count": 43,
   "metadata": {},
   "outputs": [
    {
     "name": "stdout",
     "output_type": "stream",
     "text": [
      "<class 'pandas.core.frame.DataFrame'>\n",
      "Int64Index: 498109 entries, 0 to 498108\n",
      "Data columns (total 4 columns):\n",
      "DateTime_Skey    498109 non-null int64\n",
      "Platform_Skey    498109 non-null int64\n",
      "Site_Skey        498109 non-null int64\n",
      "Video_Skey       498109 non-null int64\n",
      "dtypes: int64(4)\n",
      "memory usage: 19.0 MB\n"
     ]
    }
   ],
   "source": [
    "df_fact_table.info()"
   ]
  },
  {
   "cell_type": "markdown",
   "metadata": {},
   "source": [
    "# output dimention table and fact table to csv file "
   ]
  },
  {
   "cell_type": "code",
   "execution_count": 44,
   "metadata": {},
   "outputs": [],
   "source": [
    "df_DimDate.to_csv(\"DimDate.csv\", index=False)\n",
    "df_DimPlatform.to_csv(\"DimPlatform.csv\", index=False)\n",
    "df_DimSite.to_csv(\"DimSite.csv\", index=False)\n",
    "df_DimVideo.to_csv(\"DimVideo.csv\", index=False)\n",
    "df_fact_table.to_csv(\"Fact_table.csv\", index=False)"
   ]
  },
  {
   "cell_type": "code",
   "execution_count": 46,
   "metadata": {},
   "outputs": [
    {
     "name": "stdout",
     "output_type": "stream",
     "text": [
      "DimDate.csv          DimVideo.csv         video_data.csv\r\n",
      "DimPlatform.csv      Fact_table.csv       video_data.py\r\n",
      "DimSite.csv          Video_data_ETL.ipynb\r\n"
     ]
    }
   ],
   "source": [
    "!ls"
   ]
  },
  {
   "cell_type": "code",
   "execution_count": null,
   "metadata": {},
   "outputs": [],
   "source": []
  }
 ],
 "metadata": {
  "kernelspec": {
   "display_name": "Python 2",
   "language": "python",
   "name": "python2"
  },
  "language_info": {
   "codemirror_mode": {
    "name": "ipython",
    "version": 2
   },
   "file_extension": ".py",
   "mimetype": "text/x-python",
   "name": "python",
   "nbconvert_exporter": "python",
   "pygments_lexer": "ipython2",
   "version": "2.7.15"
  }
 },
 "nbformat": 4,
 "nbformat_minor": 2
}
